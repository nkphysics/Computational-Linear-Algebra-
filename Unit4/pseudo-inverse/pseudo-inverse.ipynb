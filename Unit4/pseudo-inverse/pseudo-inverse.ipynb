{
 "cells": [
  {
   "cell_type": "markdown",
   "id": "ac0ec7e6-f908-41d0-9372-7252b0a00ab3",
   "metadata": {},
   "source": [
    "# Moore-Penrose Pseudo-Inverse\n",
    "\n",
    "The pseudo-inverse, denoted by $A^\\dagger$, is a fundamental concept in linear algebra and linear algebra's applictions that shares similarities with the traditional inverse operation for a matrix while not necessairly being the inverse of the given matrix in question. Given a matrix A, the pseudo-inverse $A^\\dagger$ can be computed using the singular value decomposition(SVD).\n",
    "\n",
    "$A_{m \\times n} = U \\Sigma V^T$\n",
    " \n",
    "In many applications, such as signal processing and machine learning, the pseudo-inverse plays a crucial role in solving ill-conditioned systems and finding optimal solutions. One such example of this is that the pseudo-inverse provides a minimum-norm least squares solution to the system $A\\vec{x}=\\vec{b}$, even when $A$ is not invertible. Which is why it gets the name \"pseudo-inverse\". The fact that an inverse-like matrix can be established and used in a similar manner to the traditional inverse of a matrix is what ultimately gives the pseudo-inverse its value. Additionally though, if we find the pseudo-inverse of matrix that is in fact invertable the the pseudo-inverse is the inverse of a matrix (i.e. $A^\\dagger = A^{-1}$). The best place to begin understanding the pseudo-inverse is to look at how one can find the pseudo inverse of a matrix.\n",
    "\n",
    "## Finding the Pseudo-Inverse\n",
    "\n",
    "Suppose we have some linear system (because of course, we always tie thing back to solving a linear system):\n",
    "\n",
    "$A\\vec{x}=\\vec{b}$\n",
    "\n",
    "What is the easiest way, analyticaly speaking, in one operation, to solve this linear system?\n",
    "\n",
    "$A^{-1} A\\vec{x}=A^{-1}\\vec{b}$\n",
    "\n",
    "$I\\vec{x}=A^{-1}\\vec{b}$\n",
    "\n",
    "$\\vec{x}=A^{-1}\\vec{b}$\n",
    "\n",
    "But $A$ is not always invertable, hence we are covering the pseudo-inverse. So say we do the same thing but with a decomposition of $A$.\n",
    "\n",
    "Every matix will have a singular value decomposition (SVD). So we can rewrite our linear system as the following:\n",
    "\n",
    "$U \\Sigma V^T \\vec{x}=\\vec{b}$\n",
    "\n",
    "So now invert everything from our decomposition (remember $U$ and $V^T$ are orthogonal, and $\\Sigma$ is square and diagonal).\n",
    "\n",
    "First move over $U$.\n",
    "\n",
    "$U^T U \\Sigma V^T \\vec{x}= U^T\\vec{b}$\n",
    "\n",
    "$\\Sigma V^T \\vec{x}= U^T\\vec{b}$\n",
    "\n",
    "Then move over $\\Sigma$.\n",
    "\n",
    "$\\Sigma^{-1} \\Sigma V^T \\vec{x}= \\Sigma^{-1} U^T\\vec{b}$\n",
    "\n",
    "$V^T \\vec{x}= \\Sigma^{-1} U^T\\vec{b}$\n",
    "\n",
    "Last move over $V$.\n",
    "\n",
    "$V V^T \\vec{x}= V \\Sigma^{-1} U^T\\vec{b}$\n",
    "\n",
    "$\\vec{x}= V \\Sigma^{-1} U^T\\vec{b}$\n",
    "\n",
    "This matrix product on the right hand side (not including $\\vec{b}$) is the pseudo-inverse $A^{\\dagger}$.\n",
    "\n",
    "$A^{\\dagger} = V \\Sigma^{-1} U^T$\n",
    "\n",
    "If we use the SVD of a matrix this is easy to compute since we are just transposing matrices ($U$ and $V^T$) and inverting the singular values along the diagonal of $\\Sigma$. This will work for any $A_{m \\times n}$. And we can test it out with the following code."
   ]
  },
  {
   "cell_type": "code",
   "execution_count": 34,
   "id": "b4ed0f51-a99f-45ab-9de5-eddd76672ab6",
   "metadata": {
    "tags": []
   },
   "outputs": [
    {
     "name": "stdout",
     "output_type": "stream",
     "text": [
      "Singular Values: [2500.97078779 1660.16788082 1438.97551827  720.80997463  133.52589418]\n",
      "\n",
      "Inverse of singular values: [0.00039984 0.00060235 0.00069494 0.00138733 0.00748918]\n",
      "\n",
      "A:\n",
      " [[ 676  457  906  992  480]\n",
      " [-726 -735  124  891  577]\n",
      " [-234 -704  463  318 -387]\n",
      " [-931  882  788 -946 -835]\n",
      " [ 855  150  185  682  763]]\n",
      "\n",
      "A Dagger:\n",
      " [[-2.53698093e-04 -6.73228369e-04  5.58746087e-04 -1.22680332e-04\n",
      "   8.17856504e-04]\n",
      " [ 1.49631249e-03 -4.99018838e-05 -1.36821512e-03 -4.24490406e-04\n",
      "  -2.06210400e-03]\n",
      " [-1.09372304e-03  7.45789136e-05  1.24152531e-03  1.18479160e-03\n",
      "   2.55796371e-03]\n",
      " [ 2.40879601e-03  9.27173480e-05 -9.97131809e-04 -1.35827769e-03\n",
      "  -3.57768267e-03]\n",
      " [-1.89776556e-03  6.63257153e-04  2.33114121e-04  1.14773811e-03\n",
      "   3.37720129e-03]]\n",
      "\n",
      "A Dagger A: \n",
      "[[ 1. -0. -0. -0. -0.]\n",
      " [-0.  1. -0. -0.  0.]\n",
      " [ 0. -0.  1.  0. -0.]\n",
      " [-0.  0. -0.  1.  0.]\n",
      " [ 0.  0.  0.  0.  1.]]\n"
     ]
    }
   ],
   "source": [
    "import numpy as np\n",
    "\n",
    "def pseudo_inverse(A):\n",
    "    \"\"\"\n",
    "    Compute the Moore-Penrose pseudo-inverse of a matrix A using SVD.\n",
    "    \"\"\"\n",
    "    A = np.array(A, dtype=float)\n",
    "\n",
    "    # Compute SVD decomposition of A into U, Sigma, and Vh matrices\n",
    "    u, sig, vt = np.linalg.svd(A, full_matrices=False)\n",
    "    print(f\"Singular Values: {sig}\\n\")\n",
    "    \n",
    "    sigma_inv = 1 / sig[::-1]\n",
    "    idx = np.argsort(sig)\n",
    "    new_sigma_inv = np.zeros_like(sigma_inv)\n",
    "    new_sigma_inv[idx[:len(sigma_inv)]] = sigma_inv\n",
    "    print(f\"Inverse of singular values: {new_sigma_inv}\\n\")\n",
    "\n",
    "    # Create a diagonal matrix with the inverse of singular values\n",
    "    inv_Sigma = np.diag(new_sigma_inv)\n",
    "\n",
    "    # Compute the pseudo-inverse (Moore-Penrose inverse) using the formula:\n",
    "    # pinv_A = V * inv_Sigma * U^T\n",
    "    pinv_A = np.dot(vt.T,np.dot(inv_Sigma, u.T))\n",
    "    return pinv_A\n",
    "\n",
    "\n",
    "A = np.random.randint(-1000, 1001, size=(5, 5))\n",
    "A_dag = pseudo_inverse(A)\n",
    "print(f\"A:\\n {A}\\n\")\n",
    "print(f\"A Dagger:\\n {A_dag}\\n\")\n",
    "\n",
    "# Compute A Inverse A\n",
    "AinvA = np.round(np.dot(A_dag, A))\n",
    "print(f\"A Dagger A: \\n{AinvA}\")"
   ]
  },
  {
   "cell_type": "code",
   "execution_count": 35,
   "id": "48b650ad-f28e-43e8-b408-66769e2259ae",
   "metadata": {
    "tags": []
   },
   "outputs": [
    {
     "name": "stdout",
     "output_type": "stream",
     "text": [
      "Singular Values: [2017.30118406 1282.77367783  817.07317577  423.63669539]\n",
      "\n",
      "Inverse of singular values: [0.00049571 0.00077956 0.00122388 0.00236051]\n",
      "\n",
      "B:\n",
      " [[-125 -181  221  558]\n",
      " [-290 -449 -395  221]\n",
      " [ 525 -824  823  244]\n",
      " [ 929 -412  130 -484]\n",
      " [-275  469  220  862]\n",
      " [ 688 -353  646 -765]]\n",
      "\n",
      "B Dagger:\n",
      " [[-3.73722748e-05 -2.59700017e-04 -1.10031054e-04  1.60339205e-03\n",
      "   5.61089952e-04 -5.19578069e-04]\n",
      " [-1.99929612e-04 -7.90491137e-04 -5.02744409e-04  1.84697405e-04\n",
      "   5.72304770e-04 -6.53036959e-06]\n",
      " [ 1.14630810e-04 -5.00925685e-04  4.40166475e-04 -9.49305864e-04\n",
      "   1.04163580e-04  7.97272000e-04]\n",
      " [ 3.13723704e-04  1.07210219e-04  2.04272197e-04  6.35058641e-04\n",
      "   6.50290778e-04 -6.51273242e-04]]\n",
      "\n",
      "B Dagger B: \n",
      "[[ 1.  0. -0.  0.]\n",
      " [ 0.  1. -0.  0.]\n",
      " [ 0.  0.  1. -0.]\n",
      " [ 0.  0.  0.  1.]]\n"
     ]
    }
   ],
   "source": [
    "# The overdetermined system\n",
    "B = np.random.randint(-1000, 1001, size=(6, 4))\n",
    "B_dag = pseudo_inverse(B)\n",
    "print(f\"B:\\n {B}\\n\")\n",
    "print(f\"B Dagger:\\n {B_dag}\\n\")\n",
    "\n",
    "# Compute B Inverse B\n",
    "BinvB = np.round(np.dot(B_dag, B))\n",
    "print(f\"B Dagger B: \\n{BinvB}\")"
   ]
  },
  {
   "cell_type": "code",
   "execution_count": 36,
   "id": "51b2bd85-0bd0-4f3c-8dc3-f47ee5ea9313",
   "metadata": {
    "tags": []
   },
   "outputs": [
    {
     "name": "stdout",
     "output_type": "stream",
     "text": [
      "Singular Values: [1755.85994291 1000.57051684  819.00396928]\n",
      "\n",
      "Inverse of singular values: [0.00056952 0.00099943 0.001221  ]\n",
      "\n",
      "C:\n",
      " [[ -35 -758  449  483  161]\n",
      " [-536  -71 -822  340   -9]\n",
      " [ 868  697 -909  456 -601]]\n",
      "\n",
      "C Dagger:\n",
      " [[ 3.10059840e-04 -6.46742779e-04  5.25156867e-04]\n",
      " [-6.99533979e-04 -1.76090336e-04  6.68889464e-05]\n",
      " [ 1.99195211e-04 -6.68080784e-04 -1.81621691e-04]\n",
      " [ 8.23242741e-04  2.71723926e-04  3.96077661e-04]\n",
      " [-4.01214617e-05  7.83425077e-05 -2.52640121e-04]]\n",
      "\n",
      "C Dagger C: \n",
      "[[ 1.  0.  0.  0. -0.]\n",
      " [ 0.  1. -0. -0. -0.]\n",
      " [ 0. -0.  1. -0.  0.]\n",
      " [ 0. -0. -0.  1. -0.]\n",
      " [-0. -0.  0. -0.  0.]]\n"
     ]
    }
   ],
   "source": [
    "# The underdetermined system\n",
    "C = np.random.randint(-1000, 1001, size=(3, 5))\n",
    "C_dag = pseudo_inverse(C)\n",
    "print(f\"C:\\n {C}\\n\")\n",
    "print(f\"C Dagger:\\n {C_dag}\\n\")\n",
    "\n",
    "# Compute C Inverse C\n",
    "CinvC = np.round(np.dot(C_dag, C))\n",
    "# We should expect some of these to be zero since this is the underdetermined case\n",
    "# and the product will be a larger matrix\n",
    "print(f\"C Dagger C: \\n{CinvC}\")"
   ]
  },
  {
   "cell_type": "markdown",
   "id": "d6c96dde-bfe2-47b1-84e1-b13e2c2c75a6",
   "metadata": {},
   "source": [
    "As we see in the previous examples when we compute $A^\\dagger A$ (or some variation with other matrix variables), we get back the identity matrix for the square and overdetermined cases, and a diagonal matrix with only ones and zeros along the diagonal for the underdetermined case because the matrix product will result in a larger dimension matrix. This shows us that $A^\\dagger$ behaves like $A^{-1}$ despite the fact that in the non-square examples the matrices are not neceessairly invertable. Hence, in those cases the we consider the computed psuedo-inverse matrix \"pseudo\" and not a traditional inverse matrix.\n",
    "\n",
    "## Testing in linear systems\n",
    "\n",
    "Naturally this provides us with another way of finding a solution or least squares solution for a linear system. We can test that out with the following code, again for square, overdetermined, and underdetermined matrices."
   ]
  },
  {
   "cell_type": "code",
   "execution_count": 37,
   "id": "8223b24a-ae1d-4328-8070-572d908cf7ae",
   "metadata": {
    "tags": []
   },
   "outputs": [
    {
     "name": "stdout",
     "output_type": "stream",
     "text": [
      "b vector: \n",
      " [[-937]\n",
      " [ 368]\n",
      " [-646]\n",
      " [-646]\n",
      " [-779]]\n",
      "\n",
      "b - Ax: \n",
      "[[-1.13686838e-13]\n",
      " [ 3.97903932e-13]\n",
      " [ 2.27373675e-13]\n",
      " [ 7.95807864e-13]\n",
      " [-3.41060513e-13]]\n"
     ]
    }
   ],
   "source": [
    "# Square linear system\n",
    "b1 = np.random.randint(-1000, 1001, size=(len(A), 1))\n",
    "\n",
    "print(f\"b vector: \\n {b1}\\n\")\n",
    "\n",
    "# \"Solve\" (approximate solution) linear system\n",
    "x1 = np.dot(A_dag, b1)\n",
    "# Confirm approx solution\n",
    "check = b1 - np.dot(A, x1)\n",
    "print(f\"b - Ax: \\n{check}\")"
   ]
  },
  {
   "cell_type": "code",
   "execution_count": 38,
   "id": "333c07f4-7801-476c-a332-449946f56cec",
   "metadata": {
    "tags": []
   },
   "outputs": [
    {
     "name": "stdout",
     "output_type": "stream",
     "text": [
      "b vector: \n",
      " [[  84]\n",
      " [-141]\n",
      " [-799]]\n",
      "\n",
      "b - Cx: \n",
      "[[ 2.98427949e-13]\n",
      " [ 5.68434189e-14]\n",
      " [-5.68434189e-13]]\n"
     ]
    }
   ],
   "source": [
    "# Underdetermined system\n",
    "b3 = np.random.randint(-1000, 1001, size=(len(C), 1))\n",
    "\n",
    "print(f\"b vector: \\n {b3}\\n\")\n",
    "\n",
    "# \"Solve\" (approximate solution) linear system\n",
    "x3 = np.dot(C_dag, b3)\n",
    "# Confirm approx solution\n",
    "check = b3 - np.dot(C, x3)\n",
    "print(f\"b - Cx: \\n{check}\")"
   ]
  },
  {
   "cell_type": "code",
   "execution_count": 39,
   "id": "c6b9fac8-7203-41d0-bab1-e7f7d961759e",
   "metadata": {},
   "outputs": [
    {
     "name": "stdout",
     "output_type": "stream",
     "text": [
      "b vector: \n",
      " [[ 656]\n",
      " [ 158]\n",
      " [-984]\n",
      " [-947]\n",
      " [ 865]\n",
      " [-346]]\n",
      "\n",
      "x(pseudo-inverse) - x(least-squares): \n",
      "[[ 3.33066907e-16]\n",
      " [ 0.00000000e+00]\n",
      " [-3.33066907e-16]\n",
      " [ 3.60822483e-16]]\n"
     ]
    }
   ],
   "source": [
    "# Overdetermined system (remember this won't have a prefect solution usually)\n",
    "b2 = np.random.randint(-1000, 1001, size=(len(B), 1))\n",
    "\n",
    "print(f\"b vector: \\n {b2}\\n\")\n",
    "\n",
    "# \"Solve\" (approximate solution) linear system\n",
    "x2 = np.dot(B_dag, b2)\n",
    "\n",
    "# Use least squares to get a least squares solution\n",
    "x2_lsq = np.linalg.lstsq(B, b2, rcond=-1)\n",
    "\n",
    "# Confirm least-squares solution\n",
    "check = x2 - x2_lsq[0]\n",
    "print(f\"x(pseudo-inverse) - x(least-squares): \\n{check}\")"
   ]
  },
  {
   "cell_type": "markdown",
   "id": "9703abec-b7c7-4fcd-9cf3-111607a746f1",
   "metadata": {},
   "source": [
    "As seen in the previous example with the overdetermined system, we cannot find a solution so instead using the pseudo-inverse provides us with a least squares solution rather than an actual solution to the linear system.\n",
    "\n",
    "\n",
    "### References\n",
    "\n",
    "https://en.wikipedia.org/wiki/Moore%E2%80%93Penrose_inverse\n",
    "\n",
    "https://ocw.mit.edu/courses/18-06sc-linear-algebra-fall-2011/0550c89b69c99e97dcbf52074e293308_MIT18_06SCF11_Ses3.8sum.pdf"
   ]
  },
  {
   "cell_type": "code",
   "execution_count": null,
   "id": "1c3175ad-1e7d-47af-8088-422a7cee4719",
   "metadata": {},
   "outputs": [],
   "source": []
  }
 ],
 "metadata": {
  "kernelspec": {
   "display_name": "Python 3 (ipykernel)",
   "language": "python",
   "name": "python3"
  },
  "language_info": {
   "codemirror_mode": {
    "name": "ipython",
    "version": 3
   },
   "file_extension": ".py",
   "mimetype": "text/x-python",
   "name": "python",
   "nbconvert_exporter": "python",
   "pygments_lexer": "ipython3",
   "version": "3.11.11"
  }
 },
 "nbformat": 4,
 "nbformat_minor": 5
}
