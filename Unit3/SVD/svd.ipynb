{
 "cells": [
  {
   "cell_type": "markdown",
   "id": "79217dc0-9a1b-4867-9037-a4ba3b11401d",
   "metadata": {},
   "source": [
    "# Singular Value Decomposition (SVD)\n",
    "\n",
    "## Overview\n",
    "\n",
    "The Singular Value Decomposition of an $m \\times n$ matrix $\\mathbf{A}$ is a factorization of the form:\n",
    "\n",
    "$\\mathbf{A}_{m \\times n} = \\mathbf{U} \\Sigma \\mathbf{V}^T$\n",
    "\n",
    "where:\n",
    "\n",
    "* $\\mathbf{U}$ is an $m \\times r$ orthonormal matrix, where $r$ is the rank of $\\mathbf{A}$.\n",
    "* $\\Sigma$ is an $r \\times r$ diagonal matrix containing the singular values of $\\mathbf{A}$.\n",
    "* $\\mathbf{V}$ is an $n \\times r$ orthonormal matrix.\n",
    "\n",
    "**Notable Properties**\n",
    "\n",
    "* The matrices $\\mathbf{U}, \\Sigma,$ and $\\mathbf{V}$ are unique, except for possible permutations of the columns of $\\mathbf{U}$ and \n",
    "$\\mathbf{V}$.\n",
    "* The singular values in $\\Sigma$ are non-negative and sorted in descending order: $\\sigma_1 \\geq \\ldots \\geq \\sigma_r > 0$.\n",
    "* The matrices $\\mathbf{U}$ and $\\mathbf{V}$ have orthonormal columns: $\\mathbf{U}^T \\mathbf{U} = \\mathbf{I}$ and $\\mathbf{V}^T \n",
    "\\mathbf{V} = \\mathbf{I}$.\n",
    "\n",
    "The SVD and its corresponding singular values of $\\Sigma$ hold significant value due to their analogous nature to eigenvalues. While eigenvalues are a fundamental concept in linear algebra, speaking from the world of numerical/computational mathematics, they are only reliable when working with square matrices. \n",
    "In contrast, singular values can be used with matrices of any size, making them a powerful tool (notice that above I have specified that $\\mathbf{A}$ is $m \\times n$ in size). This is particularly relevant in the Data Science world, where data rarely comes in perfectly square matrices. As a result, singular values offer a more flexible and versatile alternative to eigenvalues, allowing practitioners to extract meaningful insights from data sets. As far as real world use goes the SVD and singular values are used in many real world applications. Below are just a few examples of some of the applications.\n",
    "\n",
    "**Real World Applications of SVD**\n",
    "\n",
    "* Dimensionality reduction: SVD can be used to reduce the dimensionality of a dataset while preserving most of the information.\n",
    "* Computing the pseudoinverse of a matrix\n",
    "* Data compression: SVD can be used to compress a matrix by retaining only the top few singular values and their corresponding columns in \n",
    "$\\mathbf{U}$ and $\\mathbf{V}$.\n",
    "* Image processing: SVD is often used in image processing algorithms, such as image denoising and deblurring.\n",
    "\n",
    "So if the singular values and the $\\Sigma$ matrix in particular are so useful, let's start there and discuss how we can compute them.\n",
    "\n",
    "## Computing the Singular Values\n",
    "\n",
    "**Step 1: Compute a Eigenvalues for $\\mathbf{A}^T \\mathbf{A}$**\n",
    "\n",
    "The first step is to compute the eigenvalues ($\\lambda$'s) of the matrix $\\mathbf{A}^T \\mathbf{A}$, where $\\mathbf{A}$ is a $m \\times n$ matrix. This can be done because $\\mathbf{A}^T \\mathbf{A}$ will be square (i.e. $m \\times m$ dimensions). There are a variety of methods for computing eigenvalues and I'll refer you to the notebook on computing eigenvalues for examples of such methods. \n",
    "\n",
    "**Step 2: From the Eigenvalues Compute the Singular Values**\n",
    "\n",
    "After computing the eigenvalues, we can compute the singular values of $\\mathbf{A}$ by simply taking the square roots of the eigenvalues.\n",
    "\n",
    "$$\\sigma_i = \\sqrt{\\lambda_i},$$for $i=1,\\ldots,r$..\n",
    "\n",
    "The matrix of singular values ($\\Sigma$) can then be constructed by the following:\n",
    "\n",
    "$$\\Sigma = \\begin{bmatrix}\n",
    "\\sigma_1 & 0 & 0 & 0 \\\\\n",
    "0 & \\sigma_2 & 0 & 0 \\\\\n",
    "0 & 0 & \\ddots & 0 \\\\\n",
    "0 & 0 & 0 & \\sigma_r\n",
    "\\end{bmatrix}$$\n",
    "\n",
    "To see that this is the case, lets test it out using the `numpy.linalg.eig()` and `numpy.linalg.svd()` functions in the following code."
   ]
  },
  {
   "cell_type": "code",
   "execution_count": 65,
   "id": "4bf9bc62-1b38-4961-ab4d-64957bee65cf",
   "metadata": {
    "tags": []
   },
   "outputs": [
    {
     "name": "stdout",
     "output_type": "stream",
     "text": [
      "A:\n",
      " [[ 41. -23.  88. -23.]\n",
      " [ 41.  54.  29. -84.]\n",
      " [ 91.  90. -86. -11.]\n",
      " [-60.  24.  91. -35.]\n",
      " [ 86. -20.  16.  61.]\n",
      " [-83. -46. -12.   7.]\n",
      " [-67. -31. -83.  71.]\n",
      " [-87.  21.  58.  83.]\n",
      " [ 46. -38. -73. -15.]\n",
      " [-57. -77.  78.  80.]]\n",
      "AT A:\n",
      " [[ 46951.  13010. -13406. -15851.]\n",
      " [ 13010.  23412.  -5223. -13427.]\n",
      " [-13406.  -5223.  46328.    449.]\n",
      " [-15851. -13427.    449.  31256.]]\n",
      "Singular Values for A transpose A: \n",
      " [267.02764045 205.17092836 147.22300662 113.46151643]\n",
      "Diagonal of Sigma Matrix from decomposition: \n",
      " [267.02764045 205.17092836 147.22300662 113.46151643]\n"
     ]
    }
   ],
   "source": [
    "import numpy as np\n",
    "\n",
    "# Generate random 10x4 A matrix with values between -100 and 100\n",
    "A = np.array(np.random.randint (-100, 100, (10, 4)), dtype=np.float64)\n",
    "print(f\"A:\\n {A}\")\n",
    "# Compute A transpose A\n",
    "ATA = np.dot(A.T, A)\n",
    "print(f\"AT A:\\n {ATA}\")\n",
    "# Compute the eigenvalues and eigenvectors of A transpose A\n",
    "ATA_eigvals, ATA_eigvecs = np.linalg.eig(ATA)\n",
    "# Take the square root of the eigenvalues to compute the singular values\n",
    "ATA_sigmas = np.sqrt(ATA_eigvals)\n",
    "print(f\"Singular Values for A transpose A: \\n {ATA_sigmas}\")\n",
    "\n",
    "# Confirm the singular values\n",
    "U, Sigma, VT = np.linalg.svd(A, full_matrices=False)\n",
    "print(f\"Diagonal of Sigma Matrix from decomposition: \\n {Sigma}\")"
   ]
  },
  {
   "cell_type": "markdown",
   "id": "506eb87a-cb5c-4095-bcf1-40e6fadc148a",
   "metadata": {},
   "source": [
    "Notice that the singular values, when computing the eigenvalues and then taking the square root of them, are equivalent to what we get along the diagonal of $\\Sigma$ when we compute a SVD. Also note that the singular values are the same for $\\mathbf{A}^T \\mathbf{A}$ are the same as for $\\mathbf{A}$.\n",
    "\n",
    "## Computing $\\mathbf{U}$ and $\\mathbf{V}$\n",
    "\n",
    "To get $\\mathbf{V}^T$ just compute the eigenvectors of $A^T A$ and to form the columns of the $\\mathbf{V}^T$ matrix. This works because if $\\mathbf{A}_{m \\times n} = \\mathbf{U} \\Sigma \\mathbf{V}^T$, then...\n",
    "\n",
    "$\\mathbf{A}^T \\mathbf{A}  = \\mathbf{V} \\Sigma \\mathbf{U}^T \\mathbf{U} \\Sigma \\mathbf{V}^T = \\mathbf{V} {\\Sigma}^T \\Sigma \\mathbf{V}^T = \\mathbf{V} {\\Sigma}^2 \\mathbf{V}^T$ \n",
    "\n",
    "Remember $\\mathbf{U}$ and $\\mathbf{V}$ are have orthonormal columns. That is why the $\\mathbf{U}^T \\mathbf{U}$ cancels. The ${\\Sigma}^2$ also helps explain the relationship between the eigenvalues and singular values. We can see this by examining the derivation of the Eigendecomposition for some square $A$:\n",
    "\n",
    "$A \\vec{v} = \\lambda \\vec{v}$\n",
    "\n",
    "$AQ = Q\\lambda$\n",
    "\n",
    "$A = Q \\Lambda Q^{-1}$ (Where $\\Lambda$ is a diagonal matrix with the eigenvalues along the diagonal)\n",
    "\n",
    "Even though we did not directly discuss the Eigendecomposition before in the notes on computing eigenvalues, hopefully (if you've seen those notes) you can see we discussed around the topic of the Eigendecomposition. Hopefully you can also see that $A$ and $\\Lambda$ are similar matrices. \n",
    "\n",
    "But remember, for this to work we need a square $A$. We accomplish that for the SVD by computing $A^T A$, so we can get the eigenvalue of $A^T A$. So if we stick everything next to one another we can see the following:\n",
    "\n",
    "$A^T A = Q \\Lambda Q^{-1}$\n",
    "\n",
    "$\\mathbf{A}^T \\mathbf{A} = \\mathbf{V} {\\Sigma}^2 \\mathbf{V}^T$\n",
    "\n",
    "Our orthonormal $Q$ and $V$ matrices line up nicely. So does $\\Lambda$ and ${\\Sigma}^2$. This tells us that the eigenvalues for $A^T A$ or $\\Lambda = {\\Sigma}^2$. So if we just want the singular values or $\\Sigma$ the we just need to take the square root of each eigenvalue for $A^T A$. Similarly if we want to get $V^T$ then we just need to get the eigenvectors.\n",
    "\n",
    "Then once we have $\\Sigma$ and $V^T$we can compute $U$ easily by the following:\n",
    "\n",
    "$U_i = \\frac{A V_i} {\\sigma_i}$\n",
    "\n",
    "Or more efficiently:\n",
    "\n",
    "$U = A V \\Sigma^{-1}$\n",
    "\n",
    "Normally inverting matrices should be avoided unless the matrices are orthonormal of diagonal. In this case $\\Sigma$ is diagonal, so inverting it is easy since the inverse will also be diagonal, and the values along the diagonal for the inverse of the original matrix will just be $\\frac{1} {\\sigma_i}$. \n",
    "\n",
    "With the following code, we'll test out computing $V^T$, $U$, and also ensure that when we compute $U \\Sigma V^T$ we get back A."
   ]
  },
  {
   "cell_type": "code",
   "execution_count": 66,
   "id": "ea73b4a0-90cb-409f-a6d7-8d20383e1606",
   "metadata": {
    "tags": []
   },
   "outputs": [
    {
     "name": "stdout",
     "output_type": "stream",
     "text": [
      "Eigenvectors of A transpose A (the columns): \n",
      "[[ 0.70614055  0.35525602 -0.46057906 -0.40376431]\n",
      " [ 0.16183801  0.2210347   0.83577044 -0.47585701]\n",
      " [ 0.68889489 -0.44419373  0.27131313  0.50448484]\n",
      " [ 0.02445033  0.79223024  0.12547464  0.59668211]]\n",
      "\n",
      " V transpose matrix from np.linalg.svd: \n",
      "[[-0.70614055 -0.35525602  0.46057906  0.40376431]\n",
      " [-0.16183801 -0.2210347  -0.83577044  0.47585701]\n",
      " [ 0.68889489 -0.44419373  0.27131313  0.50448484]\n",
      " [ 0.02445033  0.79223024  0.12547464  0.59668211]]\n",
      "\n",
      "U from direct computation:\n",
      " [[-0.0391851   0.4193775   0.34460341 -0.17539649]\n",
      " [ 0.257258    0.40347122 -0.20547343 -0.02379341]\n",
      " [ 0.52535025 -0.15607205 -0.04191099  0.49506988]\n",
      " [-0.23077473  0.43039556 -0.3053994   0.07122084]\n",
      " [ 0.08098068 -0.03001193  0.70127233  0.21737173]\n",
      " [-0.2705744  -0.18014441 -0.24771759 -0.31553332]\n",
      " [-0.18261614 -0.58902115 -0.12964358  0.05070199]\n",
      " [-0.42767061 -0.0022402  -0.07915557  0.62851091]\n",
      " [ 0.21968315 -0.26723161  0.14396796 -0.41502984]\n",
      " [-0.50867781  0.00427495  0.38348028 -0.04295559]]\n",
      "\n",
      "U from np.linalg.svd:\n",
      " [[ 0.0391851  -0.4193775   0.34460341 -0.17539649]\n",
      " [-0.257258   -0.40347122 -0.20547343 -0.02379341]\n",
      " [-0.52535025  0.15607205 -0.04191099  0.49506988]\n",
      " [ 0.23077473 -0.43039556 -0.3053994   0.07122084]\n",
      " [-0.08098068  0.03001193  0.70127233  0.21737173]\n",
      " [ 0.2705744   0.18014441 -0.24771759 -0.31553332]\n",
      " [ 0.18261614  0.58902115 -0.12964358  0.05070199]\n",
      " [ 0.42767061  0.0022402  -0.07915557  0.62851091]\n",
      " [-0.21968315  0.26723161  0.14396796 -0.41502984]\n",
      " [ 0.50867781 -0.00427495  0.38348028 -0.04295559]]\n",
      "\n",
      "Recomputing A to check SVD:\n",
      " [[ 41. -23.  88. -23.]\n",
      " [ 41.  54.  29. -84.]\n",
      " [ 91.  90. -86. -11.]\n",
      " [-60.  24.  91. -35.]\n",
      " [ 86. -20.  16.  61.]\n",
      " [-83. -46. -12.   7.]\n",
      " [-67. -31. -83.  71.]\n",
      " [-87.  21.  58.  83.]\n",
      " [ 46. -38. -73. -15.]\n",
      " [-57. -77.  78.  80.]]\n"
     ]
    }
   ],
   "source": [
    "print(f\"Eigenvectors of A transpose A (the columns): \\n{ATA_eigvecs.T}\\n\")\n",
    "print(f\" V transpose matrix from np.linalg.svd: \\n{VT}\\n\")\n",
    "comp_U = np.dot(np.dot(A, ATA_eigvecs), (1/ Sigma) * np.identity(len(Sigma)))\n",
    "print(f\"U from direct computation:\\n {comp_U}\\n\")\n",
    "print(f\"U from np.linalg.svd:\\n {U}\\n\")\n",
    "comp_svd = np.dot(np.dot(comp_U, np.identity(len(Sigma)) * Sigma), ATA_eigvecs.T)\n",
    "print(f\"Recomputing A to check SVD:\\n {comp_svd}\")"
   ]
  },
  {
   "cell_type": "markdown",
   "id": "689d0676-2847-4ca5-a786-7df01c52ed5a",
   "metadata": {},
   "source": [
    "## SVD Considerations for Non-Square Matrices\n",
    "\n",
    "What about if we try to use $\\mathbf{A} \\mathbf{A}^T$ to compute a SVD? Let's experiment with what happeens when try to it to compute the same singular values with the below code:"
   ]
  },
  {
   "cell_type": "code",
   "execution_count": 68,
   "id": "621bb58a-4dd5-4497-8796-a37975c9dd16",
   "metadata": {
    "tags": []
   },
   "outputs": [
    {
     "name": "stdout",
     "output_type": "stream",
     "text": [
      "AT A:\n",
      " [[ 10483.   4923.  -5654.   5801.   3991.  -3562. -10971.   -855.  -3319.\n",
      "    4458.]\n",
      " [  4923.  12494.   7021.   4415.  -2214.  -6823. -12792.  -7723.  -1023.\n",
      "  -10953.]\n",
      " [ -5654.   7021.  23898. -10741.   3979. -10738.  -2530. -11928.   7209.\n",
      "  -19705.]\n",
      " [  5801.   4415. -10741.  13682.  -6319.   2539.  -6762.   8097.  -9790.\n",
      "    5870.]\n",
      " [  3991.  -2214.   3979.  -6319.  11773.  -5983.  -2139.  -1911.   2633.\n",
      "    2766.]\n",
      " [ -3562.  -6823. -10738.   2539.  -5983.   9198.   8480.   6140.  -1299.\n",
      "    7897.]\n",
      " [-10971. -12792.  -2530.  -6762.  -2139.   8480.  17380.   6257.   3090.\n",
      "    5412.]\n",
      " [  -855.  -7723. -11928.   8097.  -1911.   6140.   6257.  18263. -10279.\n",
      "   14506.]\n",
      " [ -3319.  -1023.   7209.  -9790.   2633.  -1299.   3090. -10279.   9114.\n",
      "   -6590.]\n",
      " [  4458. -10953. -19705.   5870.   2766.   7897.   5412.  14506.  -6590.\n",
      "   21662.]]\n",
      "\n",
      "Singular Values for A A transpose: \n",
      " [2.67027640e+02+0.00000000e+00j 2.05170928e+02+0.00000000e+00j\n",
      " 1.47223007e+02+0.00000000e+00j 1.13461516e+02+0.00000000e+00j\n",
      " 1.41744855e-06+7.48798343e-07j 1.41744855e-06-7.48798343e-07j\n",
      " 1.06603103e-06+0.00000000e+00j 0.00000000e+00+5.37195297e-07j\n",
      " 0.00000000e+00+9.69113625e-07j 0.00000000e+00+1.29407265e-06j]\n"
     ]
    }
   ],
   "source": [
    "# Compute A A transpose\n",
    "AAT = np.dot(A, A.T)\n",
    "print(f\"AT A:\\n {AAT}\\n\")\n",
    "# Compute the eigenvalues and eigenvectors of A A transpose\n",
    "AAT_eigvals, AAT_eigvecs = np.linalg.eig(AAT)\n",
    "# Take the square root of the eigenvalues to compute the singular values\n",
    "AAT_sigmas = np.sqrt(AAT_eigvals)\n",
    "print(f\"Singular Values for A A transpose: \\n {AAT_sigmas}\")"
   ]
  },
  {
   "cell_type": "markdown",
   "id": "319a8e6f-d60f-47a4-9ba7-375acfbf1b26",
   "metadata": {},
   "source": [
    "That does not work out nicely. First, notice how large $\\mathbf{A} \\mathbf{A}^T$ is. It is a $10 \\times 10$ matrix, so right away this is more computationally intensive than $\\mathbf{A}^T \\mathbf{A}$, which is of smaller dimension. More importantly, notice that there are 10 singular values. In fact, some of these singular values even contain an imaginary component. Even though the first 4 $\\sigma_i$ agree with the 4 singular values we computed before for $\\mathbf{A}^T \\mathbf{A}$ and we could throw away all the complex $\\sigma_i$, we don't want to complicate things with complex numbers if we can avoid it. More importantly from the computational/numerical perspective, we don't want to have to compute more than we have to.\n",
    "\n",
    "This brings up an important point, one which has been addressed with previous notes/examples when working with non-square matrices. The point is that paying attention to the dimensions of the matrices we work with matters. Specifically, when computing a singular value decomposition (SVD) for a non-square matrix, the choice of whether to use $\\mathbf{A}^T \\mathbf{A}$ or $\\mathbf{A} \\mathbf{A}^T$ depends crucially on the dimensions of the matrix we want to decompose. If we have a matrix with more rows than columns ($m > n$), as is often the case in machine learning applications (data tables), it is more efficient and numerically stable to use $\\mathbf{A}^T \\mathbf{A}$, since this reduces the dimensions of the matrices we will be working with and thus avoids unnecessary computations. On the other hand, if we have a matrix with more columns than rows($m < n$), as may be the case in other applications, it is better to use $\\mathbf{A} \\mathbf{A}^T$ for the same reasons. Put more bluntly, if we have the option to work with smaller matrices, we generally always want to make the choice of that option.\n",
    "\n",
    "Let's see this work for a new matrix $B$ that is ($4 \\times 10$) in dimension with the following code:"
   ]
  },
  {
   "cell_type": "code",
   "execution_count": 72,
   "id": "9d83e349-8bfd-43ba-83d4-1b56caea19d5",
   "metadata": {
    "tags": []
   },
   "outputs": [
    {
     "name": "stdout",
     "output_type": "stream",
     "text": [
      "B:\n",
      " [[-100.   82.   86.  -96.   15.   71.  -43.  -92.  -70.   42.]\n",
      " [ -84.  -94.  -51.   55.  -98.  -35.  -92.   93.   70.   12.]\n",
      " [  63.  -45.  -12. -100.   43.  -55.  -25.   24.  -36.  -14.]\n",
      " [  65.   -2.   94.  -61.   67.   58.  -67.   58.   16.  -97.]]\n",
      "B BT:\n",
      " [[ 55579. -21925.  -3883.   4750.]\n",
      " [-21925.  54504.  -6395. -10503.]\n",
      " [ -3883.  -6395.  23705.  12697.]\n",
      " [  4750. -10503.  12697.  42157.]]\n",
      "Singular Values for A transpose A: \n",
      " [283.87131226 220.18265319 176.36675389 125.60432092]\n",
      "Diagonal of Sigma Matrix from decomposition: \n",
      " [283.87131226 220.18265319 176.36675389 125.60432092]\n"
     ]
    }
   ],
   "source": [
    "# Generate random 4x10 A matrix with values between -100 and 100\n",
    "B = np.array(np.random.randint (-100, 100, (4, 10)), dtype=np.float64)\n",
    "print(f\"B:\\n {B}\")\n",
    "BBT = np.dot(B, B.T)\n",
    "print(f\"B BT:\\n {BBT}\")\n",
    "BBT_eigvals, BBT_eigvecs = np.linalg.eig(BBT)\n",
    "BBT_sigmas = np.sqrt(BBT_eigvals)\n",
    "print(f\"Singular Values for A transpose A: \\n {BBT_sigmas}\")\n",
    "\n",
    "# Confirm the singular values\n",
    "B_U, B_Sigma, B_VT = np.linalg.svd(B, full_matrices=False)\n",
    "print(f\"Diagonal of Sigma Matrix from decomposition: \\n {B_Sigma}\")"
   ]
  },
  {
   "cell_type": "markdown",
   "id": "288d211f-e851-47ab-9ab9-1f4cbe8e2192",
   "metadata": {},
   "source": [
    "As you can see the computation of singular values using $A A^T$ for a matrix with more columns than rows works out really nicely since its only a $4 \\times 4$ matrix and thus we only get back 4 singular values. We don't have to deal with any complex $\\sigma_i$, or throw any away, and most importantly we take the easier route computationally by working with a smaller matrix. So that is why it is so important to pay attention to dimensions."
   ]
  },
  {
   "cell_type": "markdown",
   "id": "6a455c24-6c14-414f-adba-ed454be49c81",
   "metadata": {},
   "source": [
    "## Reference Links\n",
    "\n",
    "https://pages.mtu.edu/~struther/Courses/OLD/Other/Sp2012/5627/SVD/Report/Singular%20Value%20Decomposition%20and%20its%20numerical%20computations.pdf\n",
    "\n",
    "https://youtu.be/mBcLRGuAFUk?si=3jrTEC-5jr2tvgYr\n",
    "\n",
    "https://youtu.be/rYz83XPxiZo?si=iWHsUpyBR9w4-CSZ\n",
    "\n",
    "https://en.wikipedia.org/wiki/Singular_value_decomposition#Applications_of_the_SVD"
   ]
  },
  {
   "cell_type": "code",
   "execution_count": null,
   "id": "b432dea2-3b31-4cb3-9488-06407eed3e2d",
   "metadata": {},
   "outputs": [],
   "source": []
  }
 ],
 "metadata": {
  "kernelspec": {
   "display_name": "Python 3 (ipykernel)",
   "language": "python",
   "name": "python3"
  },
  "language_info": {
   "codemirror_mode": {
    "name": "ipython",
    "version": 3
   },
   "file_extension": ".py",
   "mimetype": "text/x-python",
   "name": "python",
   "nbconvert_exporter": "python",
   "pygments_lexer": "ipython3",
   "version": "3.11.10"
  }
 },
 "nbformat": 4,
 "nbformat_minor": 5
}
